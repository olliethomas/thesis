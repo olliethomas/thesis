{
 "cells": [
  {
   "cell_type": "markdown",
   "metadata": {
    "jupyter": {
     "outputs_hidden": false
    },
    "pycharm": {
     "name": "#%%\n"
    }
   },
   "source": [
    "# What's wrong with Fair Representations of input data?"
   ]
  },
  {
   "cell_type": "markdown",
   "metadata": {},
   "source": [
    "## Data\n",
    "\n",
    "Throughout we're going to be using synthetic data. We could easily run all of this throughout with real-world datasets (launch any of the following files as a notebook using the rocket icon at the top of the page and replace `synthetic(*args, **kwargs)` with any from `adult(), compas(), credit(), crime(), health(), sqf()`).\n",
    "\n",
    "The synthetic data covers 4 scenarios. Each scenario is run over the next few pages.\n",
    "\n",
    "The data consists of 4 input variables, $X_1$, $X_2$, $N_1$ and $N_2$ where $X$ are drawn as described below, and $N$ are random noise that are independent of all variables. There are 3 outcoe variables $Y_1$, $Y_2$ and $Y_3$ which represent outcomes based solely on each of the inputs, in addition to a combination of the inputs. Lastly, we have $S$, a sensitive attribute. How $S$ relates to $X$ and $Y$ is altered in each scenario.\n",
    "\n",
    "### Scenario 1\n",
    "![Scenario 1](./assets/scenario_1.png)\n",
    "\n",
    "In this scenario, there are two input variables, $X_1$ and $X_2$.\n",
    "There are three outcome variables, $Y_1$, $Y_2$ & $Y_3$.\n",
    "There is one sensitive attribute, $S$, which is independent of all $X$ & $Y$.\n",
    "\n",
    "### Scenario 2\n",
    "![Scenario 2](./assets/scenario_2.png)\n",
    "\n",
    "In this scenario, there are two input variables, $X_1$ and $X_2$.\n",
    "There are three outcome variables, $Y_1$, $Y_2$ & $Y_3$.\n",
    "There is one sensitive attribute, $S$, which is independent of $X_2$ & $Y_2$, but not independent of $X_1$, $Y_1$, or $Y_3$.\n",
    "\n",
    "### Scenario 3\n",
    "![Scenario 3](./assets/scenario_3.png)\n",
    "\n",
    "In this scenario, there are two input variables, $X_1$ and $X_2$.\n",
    "There are three outcome variables, $Y_1$, $Y_2$ & $Y_3$.\n",
    "There is one sensitive attribute, $S$, which is independent of both $X$, $Y_1$ and $Y_2$, but not independent of $Y_3$.\n",
    "\n",
    "### Scenario 4\n",
    "![Scenario 4](./assets/scenario_4.png)\n",
    "\n",
    "In this scenario, there are two input variables, $X_1$ and $X_2$.\n",
    "There are three outcome variables, $Y_1$, $Y_2$ & $Y_3$.\n",
    "There is one sensitive attribute, $S$, which is independent of $X_2$ & $Y_2$, but not independent of $X_1$, $Y_1$, or $Y_3$.\n",
    "\n",
    "## Strategic Approaches\n",
    "\n",
    "### Strategy 1\n",
    "\n",
    "We have some input data $x$. We want a function that produces a version of this data ($z_x$), such that $z_x$ is independent of some protected characteristic $s$. In other words we want to find $e: X \\rightarrow Z_x ~~\\mathrm{s.t.}~ Z_x \\perp S$."
   ]
  },
  {
   "cell_type": "markdown",
   "metadata": {},
   "source": [
    "Let's look at that. \n",
    "\n",
    "![setup1](assets/setup1.png)\n",
    "\n",
    "The red line indicates that you cannot learn $S$ from $Z_x$; there is no mutual information between these two variables. They are independent.\n",
    "\n",
    "The problem here is that the easiest way for a network to achieve this is to just learn nothing. Make $Z_x$ all $0$'s and your job is done. But that's a claim... let's demonstrate that."
   ]
  },
  {
   "cell_type": "markdown",
   "metadata": {},
   "source": [
    "### Strategy 2\n",
    "\n",
    "So the problem is that our representation doesn't have any direction. It's goal is to make $S$ unrecognizable from $Z$. Which it does, it's just that you can't tell anything else from $Z$ either.\n",
    "\n",
    "So let's give $Z$ some direction.\n",
    "\n",
    "![setup2](assets/setup2.png)\n",
    "\n",
    "In this case we want $Z$ to have no information about $S$, but also be representative of $Y$.\n",
    "\n",
    "We can re-use most of the parts from before, but we need a predictor."
   ]
  },
  {
   "cell_type": "markdown",
   "metadata": {},
   "source": [
    "Well, this is certainly more accurate than before, but although were a bit more equal than in the original data, we're not really doing a great job. The reason for this is that there is a tension between removing information that is relevant to $S$ and keeping information that is relevant for $Y$. To demonstrate this, let's tweak the above model to remove this tension."
   ]
  },
  {
   "cell_type": "markdown",
   "metadata": {},
   "source": [
    "### Strategy 3\n",
    "\n",
    "![setup3](assets/setup3.png)\n",
    "\n",
    "In this setup we remove the tension. $Z$ can freely remove $S$, and $Y$ can get all the information it needs about $S$ directly."
   ]
  }
 ],
 "metadata": {
  "kernelspec": {
   "display_name": "Python 3",
   "language": "python",
   "name": "python3"
  },
  "language_info": {
   "codemirror_mode": {
    "name": "ipython",
    "version": 3
   },
   "file_extension": ".py",
   "mimetype": "text/x-python",
   "name": "python",
   "nbconvert_exporter": "python",
   "pygments_lexer": "ipython3",
   "version": "3.7.3"
  }
 },
 "nbformat": 4,
 "nbformat_minor": 4
}
