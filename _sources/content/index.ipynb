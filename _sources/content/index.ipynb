{
 "cells": [
  {
   "cell_type": "markdown",
   "source": [
    "# Fair Representations of Biased Data\n",
    "Thank you for looking at this work-in-progress document.\n",
    "\n",
    "The purpose of this format is that work used in the annual review can be easily extended into a thesis.\n",
    "This format has been selected so that runnable code examples can be used to express a point (if appropriate).\n",
    "\n",
    "If on any page there are questions you'd like to raise, please raise an issue using the github icon at the top of each page.\n",
    "Similarly, if there are any minor corrections, you can use that tool as well.\n",
    "\n",
    "# Abstract\n",
    "\n",
    "Consistent decision making as an idividual is hard.\n",
    "Once distributed to many people, making consistent decisions across an organisation is even harder.\n",
    "Because of this, there is an appeal to automated, consistent decision making systems.\n",
    "The promise is that these systems are reliable, transparent, and just.\n",
    "However, in practice, this is not always the case, often to the detriment of society's least powerful.\n",
    "The common retort is that machines aren't biased, but the data they learn from can be.\n",
    "In this thesis I investigate this claim.\n",
    "I show that positive improvements can be made by changing the data, mapping from the original data to a \"fair\" representation.\n",
    "I then demonstrate that we can query these changes to ask what needs to be changed about the data for it to stop being _not_ \"fair\".\n",
    "Then, I draw a parallel between this work and the work of causality to demonstrate that we can identiy \"at-risk\" individuals.\n",
    "\n",
    "# Citation\n",
    "To reference this thesis, please use the following BibTex\n",
    "\n",
    "```bibtex\n",
    "@phdthesis{FairReprTho21,\n",
    "    author = {Thomas, Oliver},\n",
    "    title  = {Fair Representations of Data},\n",
    "    school = {University of Sussex},\n",
    "    year   = {2021},\n",
    "}\n",
    "```"
   ],
   "metadata": {
    "collapsed": false
   }
  },
  {
   "cell_type": "code",
   "execution_count": null,
   "outputs": [],
   "source": [
    "import seaborn as sns\n",
    "import pandas as pd\n",
    "from pathlib import Path\n",
    "from matplotlib import pyplot as plt\n",
    "\n",
    "data = pd.read_csv(Path.cwd() / \"thesis_wc.csv\")\n",
    "sns.lineplot(data=data, x=\"date\", y=\"count\")\n",
    "plt.show()"
   ],
   "metadata": {
    "collapsed": false,
    "pycharm": {
     "name": "#%%\n"
    }
   }
  },
  {
   "cell_type": "code",
   "execution_count": null,
   "outputs": [],
   "source": [
    "import plotly.express as px\n",
    "import plotly.graph_objects as go\n",
    "\n",
    "fig = go.Figure(\n",
    "    data=[go.Bar(y=[2, 1, 3])],\n",
    "    layout_title_text=\"A Figure Displayed with fig.show()\"\n",
    ")\n",
    "fig.show(renderer=\"notebook_connected\")"
   ],
   "metadata": {
    "collapsed": false,
    "pycharm": {
     "name": "#%%\n"
    }
   }
  }
 ],
 "metadata": {
  "kernelspec": {
   "display_name": "Python 3",
   "language": "python",
   "name": "python3"
  },
  "language_info": {
   "codemirror_mode": {
    "name": "ipython",
    "version": 2
   },
   "file_extension": ".py",
   "mimetype": "text/x-python",
   "name": "python",
   "nbconvert_exporter": "python",
   "pygments_lexer": "ipython2",
   "version": "2.7.6"
  }
 },
 "nbformat": 4,
 "nbformat_minor": 0
}